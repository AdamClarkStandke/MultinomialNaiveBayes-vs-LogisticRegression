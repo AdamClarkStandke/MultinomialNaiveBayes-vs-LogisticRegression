{
 "cells": [
  {
   "cell_type": "code",
   "execution_count": null,
   "metadata": {},
   "outputs": [],
   "source": [
    "'''\n",
    "Implementing a fake news classifier as detailed by Katharine Jarmul in her \n",
    "Introduction to Natural Language Processing in Python course on DataCamp. Additionally, \n",
    "contains a logistic regression model implemented from scatch as detailed by Suraj Verma\n",
    "in his Logistic Regression From Scratch in Python as found on Medium and by Mirko Stojiljković\n",
    "in his Stochastic Gradient Descent Algorithm With Python as found on realpython. I also implemented a\n",
    "non-metaheurstic simulation method for finding a good enough solution to additive smoothing \n",
    "parameter for sklearn's MultinomialNB classifier.  \n",
    "'''"
   ]
  },
  {
   "cell_type": "code",
   "execution_count": 56,
   "metadata": {},
   "outputs": [],
   "source": [
    "import warnings\n",
    "warnings.filterwarnings('ignore')"
   ]
  },
  {
   "cell_type": "code",
   "execution_count": 57,
   "metadata": {},
   "outputs": [],
   "source": [
    "import pandas as pd\n",
    "import numpy as np\n",
    "from progress.bar import Bar\n",
    "from sklearn.feature_extraction.text import TfidfVectorizer, CountVectorizer\n",
    "from sklearn.model_selection import train_test_split\n",
    "from sklearn.linear_model import _logistic\n",
    "from scipy.sparse import issparse, csr_matrix\n",
    "import matplotlib.pyplot as plt\n",
    "from sklearn.metrics import classification_report, confusion_matrix, accuracy_score, ConfusionMatrixDisplay\n",
    "import sklearn.metrics as metrics\n",
    "from sklearn.naive_bayes import MultinomialNB\n",
    "from scipy.special import expit\n",
    "from numpy.linalg import norm\n",
    "import sys\n",
    "import gc"
   ]
  },
  {
   "cell_type": "code",
   "execution_count": 58,
   "metadata": {},
   "outputs": [
    {
     "name": "stdout",
     "output_type": "stream",
     "text": [
      "   Unnamed: 0                                              title  \\\n",
      "0        8476                       You Can Smell Hillary’s Fear   \n",
      "1       10294  Watch The Exact Moment Paul Ryan Committed Pol...   \n",
      "2        3608        Kerry to go to Paris in gesture of sympathy   \n",
      "3       10142  Bernie supporters on Twitter erupt in anger ag...   \n",
      "4         875   The Battle of New York: Why This Primary Matters   \n",
      "\n",
      "                                                text label  \n",
      "0  Daniel Greenfield, a Shillman Journalism Fello...  FAKE  \n",
      "1  Google Pinterest Digg Linkedin Reddit Stumbleu...  FAKE  \n",
      "2  U.S. Secretary of State John F. Kerry said Mon...  REAL  \n",
      "3  — Kaydee King (@KaydeeKing) November 9, 2016 T...  FAKE  \n",
      "4  It's primary day in New York and front-runners...  REAL  \n",
      "\n",
      "(6335, 4)\n"
     ]
    },
    {
     "data": {
      "text/plain": [
       "12003"
      ]
     },
     "execution_count": 58,
     "metadata": {},
     "output_type": "execute_result"
    }
   ],
   "source": [
    "# Data comes from Katharine Jarmul's Introduction to Natural Language Processing in Python \n",
    "# course on DataCamp\n",
    "filename='/home/ichglaubeya/projects/NLP Processing/fake_or_real_news.csv'\n",
    "\n",
    "# Read in fake or real dataset with 27MB of information to create dataframe\n",
    "#done so using the chunk size method: https://www.sciencedirect.com/topics/engineering/chunk-size \n",
    "temp=[]\n",
    "chunksize = 10 ** 5\n",
    "for chunk in pd.read_csv(filename, chunksize=chunksize):\n",
    "    temp.append(chunk)\n",
    "df = pd.DataFrame(temp[0][:][:])\n",
    "\n",
    "# printing the head of dataframe\n",
    "print(df.head())\n",
    "print()\n",
    "# document-feature matrix shape\n",
    "print(df.shape)\n",
    "\n",
    "# do garbarge collecting\n",
    "del temp\n",
    "gc.collect()"
   ]
  },
  {
   "cell_type": "code",
   "execution_count": 59,
   "metadata": {},
   "outputs": [
    {
     "name": "stdout",
     "output_type": "stream",
     "text": [
      "['00', '000', '0000', '00000031', '000035', '00006', '0001', '0001pt', '000ft', '000km']\n",
      "\n",
      "{'treaties': 51634}\n",
      "[0 0 0 0 0 0 0 0 0 0]\n"
     ]
    },
    {
     "data": {
      "text/plain": [
       "0"
      ]
     },
     "execution_count": 59,
     "metadata": {},
     "output_type": "execute_result"
    }
   ],
   "source": [
    "'''Using Countvectorizer to create generic document-term matrix for machine learning. i.e.\n",
    "\n",
    "[['gone iniches of heat, but do'],       [[1, 0, 23, 0, 15, 0, 16],\n",
    " ['love chap it I don't know' ]]  ->     [24, 20, 19, 0, 7, 6, 0]]\n",
    "'''\n",
    "\n",
    "# Create a series to store the labels: y\n",
    "y = df['label']\n",
    "\n",
    "# Create training and test sets\n",
    "X_train, X_test, y_train, y_test = train_test_split(\n",
    "    df['text'], y, test_size=0.33, random_state=53)\n",
    "\n",
    "# Initialize a CountVectorizer object: count_vectorizer with english stopwords\n",
    "count_vectorizer = CountVectorizer(stop_words='english')\n",
    "\n",
    "# Learn the vocabulary and dictionary and return document-term matrix of size 4244, 56922\n",
    "# i.e. 4244 documents and 56922 terms\n",
    "count_train = count_vectorizer.fit_transform(X_train)\n",
    "\n",
    "# Extract token counts out of raw text documents using the vocabulary and return\n",
    "# document-term matrix of size 2091, 56922 i.e. 2091 documents and 56922 terms\n",
    "count_test = count_vectorizer.transform(X_test)\n",
    "\n",
    "# Print the first 10 features\n",
    "print(count_vectorizer.get_feature_names()[:10])\n",
    "print()\n",
    "\n",
    "# Printing a random subset of word-value pairs from the dictionary\n",
    "dictionary_page={key: value for key, value in count_vectorizer.vocabulary_.items() if value == np.random.randint(low=0, high=56923)}\n",
    "print(dictionary_page)\n",
    "\n",
    "# Print the first vector of the document-term matrix of the first 10 features\n",
    "print(count_train.A[0][:10])\n",
    "\n",
    "# doing garbage collecting\n",
    "del df\n",
    "gc.collect()"
   ]
  },
  {
   "cell_type": "code",
   "execution_count": 60,
   "metadata": {},
   "outputs": [
    {
     "name": "stdout",
     "output_type": "stream",
     "text": [
      "['00', '000', '0000', '00000031', '000035', '00006', '0001', '0001pt', '000ft', '000km']\n",
      "[0. 0. 0. 0. 0. 0. 0. 0. 0. 0.]\n"
     ]
    },
    {
     "data": {
      "text/plain": [
       "0"
      ]
     },
     "execution_count": 60,
     "metadata": {},
     "output_type": "execute_result"
    }
   ],
   "source": [
    "'''Using TfidfVectorizer to create Tf-IDF document-term matrix for machine learning \n",
    "The formula that is used to compute the tf-idf of term t is tf-idf(d, t) = tf(t) * idf(d, t), \n",
    "and the idf is computed as idf(d, t) = log [ n / df(d, t) ] + 1 (if ``smooth_idf=False``),\n",
    "where n is the total number of documents and df(d, t) is the document frequency; the document \n",
    "frequency is the number of documents d that contain term t:  i.e.\n",
    "\n",
    "[['gone iniches of heat, but do'],   [[0.001, 0.00, 0.0023, 0.00, 0.0015, 0.00, 0.0016, ...],\n",
    " ['love chap it I don't know  ']] -> [0.0024, 0.0020, 0.0019, 0.00, 0.007, 0.006, 0.000, ...]]\n",
    "'''\n",
    "# max_df: When building the vocabulary ignore terms that have a df strictly higher than \n",
    "# the given threshold (corpus-specific stop words)\n",
    "tfidf_vectorizer = TfidfVectorizer(stop_words=\"english\", max_df=0.7)\n",
    "\n",
    "# Learn Vocabulary and idf and return tf-idf document-term matrix of size 4244, 56922\n",
    "# i.e. 4244 documents and 56922 terms\n",
    "tfidf_train = tfidf_vectorizer.fit_transform(X_train)\n",
    "\n",
    "# Uses the vocabulary and idf learned by fit_transform and return tf-idf document-term matrix of\n",
    "# size of 2091, 56922 i.e. 2091 documents and 56922 terms\n",
    "tfidf_test = tfidf_vectorizer.transform(X_test)\n",
    "\n",
    "# Print the first 10 features\n",
    "print(tfidf_vectorizer.get_feature_names()[:10])\n",
    "\n",
    "# Print the first vector of the tf-idf document-term matrix of the first 10 features\n",
    "print(tfidf_train.A[0][:10])\n",
    "\n",
    "# doing garbage collecting\n",
    "del tfidf_vectorizer\n",
    "del CountVectorizer\n",
    "del TfidfVectorizer\n",
    "del X_test\n",
    "del X_train\n",
    "del chunk\n",
    "del chunksize\n",
    "del train_test_split\n",
    "gc.collect()\n",
    "\n"
   ]
  },
  {
   "cell_type": "code",
   "execution_count": 61,
   "metadata": {},
   "outputs": [],
   "source": [
    "'''Transforming the document-term matrix into Compressed Sparse Row Matrix form\n",
    "using scipy.sparse.csr_matrix. Reduces the memory storage by an order of magnitude as\n",
    "compared to the raw format i.e. GB -> MB \n",
    ":http://www.netlib.org/utk/people/JackDongarra/etemplates/node373.html\n",
    ":https://docs.scipy.org/doc/scipy/reference/generated/scipy.sparse.csr_matrix.html\n",
    "'''\n",
    "tfidf_train= csr_matrix(tfidf_train.A, dtype=np.float64)\n",
    "tfidf_test = csr_matrix(tfidf_test.A, dtype=np.float64)"
   ]
  },
  {
   "cell_type": "code",
   "execution_count": 62,
   "metadata": {},
   "outputs": [
    {
     "name": "stdout",
     "output_type": "stream",
     "text": [
      "0.893352462936394\n"
     ]
    },
    {
     "data": {
      "image/png": "[encoded data removed]",
      "text/plain": [
       "<Figure size 432x288 with 2 Axes>"
      ]
     },
     "metadata": {
      "needs_background": "light"
     },
     "output_type": "display_data"
    },
    {
     "name": "stdout",
     "output_type": "stream",
     "text": [
      "\n",
      "0.8565279770444764\n"
     ]
    },
    {
     "data": {
      "image/png": "[encoded data removed]",
      "text/plain": [
       "<Figure size 432x288 with 2 Axes>"
      ]
     },
     "metadata": {
      "needs_background": "light"
     },
     "output_type": "display_data"
    }
   ],
   "source": [
    "'''Comparining Accuracy and Confusion Matrix difference of MultinomialNB\n",
    "   using term-frequency(i.e count_train) vs. term-frequency inverse document frequency\n",
    "   (ie.tfidf_train) feature vectors as detailed by Katharine Jarmul's Introduction to Natural \n",
    "   Language Processing in Python course on DataCamp \n",
    "'''\n",
    "\n",
    "# Instantiate a Multinomial Naive Bayes classifier: nb_classifier\n",
    "nb_classifier_one = MultinomialNB()\n",
    "\n",
    "# Fit the classifier to the training data using tf feature vectors\n",
    "nb_classifier_one.fit(count_train, y_train)\n",
    "\n",
    "# Create the predicted tags: pred\n",
    "pred = nb_classifier_one.predict(count_test)\n",
    "\n",
    "# Calculate the accuracy score: score\n",
    "score = metrics.accuracy_score(y_test, pred)\n",
    "print(score)\n",
    "\n",
    "# Calculate the confusion matrix: cm\n",
    "ConfusionMatrixDisplay.from_predictions(y_test, pred)\n",
    "plt.show()\n",
    "print()\n",
    "\n",
    "nb_classifier_two = MultinomialNB()\n",
    "\n",
    "# Fit the classifier to the training data with tf-idf feature vectors\n",
    "nb_classifier_two.fit(tfidf_train, y_train)\n",
    "\n",
    "# Create the predicted tags: pred\n",
    "pred = nb_classifier_two.predict(tfidf_test)\n",
    "\n",
    "# Calculate the accuracy score: score\n",
    "score = metrics.accuracy_score(y_test, pred)\n",
    "print(score)\n",
    "\n",
    "# Calculate the confusion matrix: cm\n",
    "ConfusionMatrixDisplay.from_predictions(y_test, pred)\n",
    "plt.show()"
   ]
  },
  {
   "cell_type": "code",
   "execution_count": 63,
   "metadata": {},
   "outputs": [
    {
     "name": "stdout",
     "output_type": "stream",
     "text": [
      "(0.001824562412315025, 0.9067431850789096)\n"
     ]
    }
   ],
   "source": [
    "'''Non-Metaheurisic Optimization of Alpha Parameter for the MultinomialNB Model:\n",
    "(i.e. not using general solving methods like Genetic Algorithms,Energy Optimizations \n",
    "like Simulated/Quantum annealing, Particle Swarm Optimizations (PSO) and/or other \n",
    "non-optimal algorithm methods)\n",
    "\n",
    "********************************Killa Alpha*******************************************************\n",
    "Intuition Behind Optimize Function:\n",
    "**************************************************************************************************\n",
    "General Additive/Laplace Smoothing Formula:\n",
    "theta_hat = x_i + alpha/N + alpha*d (i=1,..., d), where alpha is the pseudocount  (1)\n",
    "and alpha > 0\n",
    "\n",
    "Heuristic/Optimizaion Method for Alpha for Binary Text Classification using \n",
    "tf-idf feature vectors. From a Bayesian point of view, (1) corresponds to the expected \n",
    "value of the posterior distribution of a Binomial distribution using a Beta distribution \n",
    "as the conjugate prior for alpha when the classification is binary i.e.\n",
    "        E(P(p_hat|X, alpha, beta)= x_i + alpha/N + alpha + beta) for (i=1,..., d)    (2)\n",
    "where p_hat is either 0 or 1; X is the tf-idf term-document matrix; N is the\n",
    "number of samples.\n",
    "'''\n",
    "# Create the list of alphas: alphas where alpha and beta come from the Beta distribution\n",
    "alpha = np.random.random_sample(size=tfidf_train.shape[0])\n",
    "beta = np.random.random_sample(size=tfidf_train.shape[0])\n",
    "alphas=np.random.beta(a=alpha, b=beta)\n",
    "\n",
    "\n",
    "def optimize(alpha):\n",
    "    # Instantiate the classifier: nb_classifier\n",
    "    nb_classifier = MultinomialNB(alpha=alpha)\n",
    "    # Fit to the training data\n",
    "    nb_classifier.fit(tfidf_train, y_train)\n",
    "    # Predict the labels: pred\n",
    "    pred = nb_classifier.predict(tfidf_test)\n",
    "    # Compute accuracy: score\n",
    "    score = metrics.accuracy_score(y_test, pred)\n",
    "    return score\n",
    "\n",
    "# Iterate over the alphas and print the max score and alpha\n",
    "temp=[]\n",
    "for alpha in alphas:\n",
    "    score=optimize(alpha)\n",
    "    temp.append((alpha, score))\n",
    "print(max(temp,key=lambda x:x[1]))\n"
   ]
  },
  {
   "cell_type": "code",
   "execution_count": 64,
   "metadata": {},
   "outputs": [
    {
     "name": "stdout",
     "output_type": "stream",
     "text": [
      "0.9067431850789096\n"
     ]
    },
    {
     "data": {
      "image/png": "[encoded data removed]",
      "text/plain": [
       "<Figure size 432x288 with 2 Axes>"
      ]
     },
     "metadata": {
      "needs_background": "light"
     },
     "output_type": "display_data"
    }
   ],
   "source": [
    "'''\n",
    "Using the alpha value from optimize function to get a higher score for the MultinomialNB\n",
    "model using tf-idf feature vectors to get 91% accuracy versus 86% accuracy \n",
    "'''\n",
    "myModel=MultinomialNB(alpha=0.001824562412315025)\n",
    "myModel.fit(tfidf_train, y_train)\n",
    "pred_NB = myModel.predict(tfidf_test)\n",
    "#Mymodel's MultinomialNB prediction with alpha parameter\n",
    "print(metrics.accuracy_score(y_test, pred_NB))\n",
    "ConfusionMatrixDisplay.from_predictions(y_test, pred_NB)\n",
    "plt.show()"
   ]
  },
  {
   "cell_type": "code",
   "execution_count": 65,
   "metadata": {},
   "outputs": [],
   "source": [
    "'''\n",
    "Hybrid Implementation of Suraj Verma's Logistic Regression From Scratch in Python and\n",
    "Mirko Stojiljković's Stochastic Gradient Descent Algorithm With Python and NumPy. \n",
    "Becasue I wanted to see if my coefficients could be further optimized using Stochastic \n",
    "gradient descent(i.e. because of the relationaship between MultinomialNB and linear regression), I implemented\n",
    "did a warm start to the Stochastic gradient descent method:https://www.csie.ntu.edu.tw/~cjlin/libsvmtools/warm-start/warm-start.pdf.\n",
    "\n",
    "Also because of issues with nans due to the exploding gradient problem,\n",
    "I implemented Min-Max Normalization:http://proc.conisar.org/2018/pdf/4813.pdf and l1 regularization\n",
    ":https://github.com/scikit-learn/scikit-learn/blob/7e1e6d09b/sklearn/linear_model/_logistic.py#L1120\n",
    "Helped a bit but not there yet :( \n",
    "'''\n",
    "# min max normization\n",
    "def min_max_scaling(X):\n",
    "    # have to transform to float32 so it work in my virtual environment(i.e. not killed)\n",
    "    X = csr_matrix(X, dtype=np.float32)\n",
    "    x=X.toarray() # warning!!: will convert to raw format and os kernal may kill program due to memory constraints\n",
    "    del X \n",
    "    gc.collect()\n",
    "    # calculating max and min using numpy's norm function\n",
    "    maxa=norm(x, np.inf, axis=0)\n",
    "    mina=norm(x, -np.inf, axis=0)\n",
    "    numerator = x-mina\n",
    "    denominator = maxa-mina\n",
    "    del x\n",
    "    del mina\n",
    "    del maxa\n",
    "    gc.collect()\n",
    "    # dividing portion\n",
    "    X=np.divide(numerator, denominator)\n",
    "    del numerator\n",
    "    del denominator\n",
    "    gc.collect()\n",
    "    # transforming back to float64 for further processing\n",
    "    x=csr_matrix(X, dtype=np.float64)\n",
    "    del X\n",
    "    gc.collect()\n",
    "    return x\n",
    "#Gradient calculation\n",
    "def gradients(X, y, y_hat, C, weights):\n",
    "    m = float(X.shape[0])\n",
    "    # transposing the matrix\n",
    "    X = X.transpose()\n",
    "    # Gradient of loss w.r.t weights\n",
    "    dw = (1/m)*(C*X.dot(y_hat-y)) + np.sum(weights) #addition of l1 penalty\n",
    "    del X\n",
    "    gc.collect()\n",
    "    # Gradient of loss w.r.t bias.\n",
    "    db = (1/m)*np.sum((y_hat - y)) \n",
    "    return dw, db\n",
    "# Sigmoid function\n",
    "def sigmoid(z):\n",
    "    return 1.0/(1.0 + np.exp(-z))\n",
    "# Binary Coss-Entropy Loss or the Log Loss function \n",
    "def loss(y, y_hat):\n",
    "    loss = -np.mean(y*(np.log(y_hat)) - (1.0-y)*np.log(1.0-y_hat))\n",
    "    return loss\n",
    "# Stochastic Gradient Descent: technically it is min-batch SGD but by setting batch size to 1 it\n",
    "# is SGD\n",
    "def mdmbSGDLog(gradient, x, y, start, learn_rate=0.1, batch_size=1, n_iter=50, tolerance=1e-06,\n",
    "                                 dtype=\"float64\", random_state=None, C=0.1):\n",
    "    \n",
    "    # Setting up the data type for numpy arrays\n",
    "    dtype_ = np.dtype(dtype)\n",
    "    # Calculating observation size\n",
    "    n_obs = x.shape[0]\n",
    "    # Calculating feature size\n",
    "    n_vars = x.shape[1]\n",
    "    # making sure y is numpy array of the right data type\n",
    "    y = np.array(y, dtype=dtype_)\n",
    "    # performing min-max normilization on the training data\n",
    "    x = min_max_scaling(x)\n",
    "    # setting the random number generator for reproducibility purposes\n",
    "    seed = int(random_state)\n",
    "    rng = np.random.default_rng(seed=seed)\n",
    "    index=np.arange(tfidf_train.shape[0])\n",
    "    # setting the learning rate to be a numpy array of right data type\n",
    "    learn_rate = np.array(learn_rate, dtype=dtype_)\n",
    "    # setting the lambda parameter for the l1 penalty to be a float data type\n",
    "    C = float(C)\n",
    "    # setting the tolerance to be a numpy array with right data tyep\n",
    "    tolerance = np.array(tolerance, dtype=dtype_)\n",
    "    # batch initialization\n",
    "    batch_size = int(batch_size)\n",
    "    # epoch initialization\n",
    "    n_iter = int(n_iter)\n",
    "######################Initialzation section#############################################################\n",
    "    # bias initialization \n",
    "    b=0.0\n",
    "    # warm start initialization\n",
    "    if  not isinstance(start, float) and start is not None:\n",
    "        vector = np.array(start, dtype=dtype_).reshape(n_vars, 1)\n",
    "    else:\n",
    "        vector = np.zeros((n_vars, 1), dtype=dtype_)\n",
    "##########################Gradient Descent loop#####################################################################\n",
    "    # Performing the gradient descent loop with a progress bar\n",
    "    with Bar('Processing...') as bar:\n",
    "        for i in range(n_iter):\n",
    "            # random shuffling of training data\n",
    "            rng.shuffle(index)\n",
    "            x, y = x[index, :], y[index]\n",
    "            # Performing minibatch moves\n",
    "            for start in range(0, n_obs, batch_size):\n",
    "                stop = start + batch_size\n",
    "                x_batch, y_batch = x[start:stop, :], y[start:stop]\n",
    "                y_hat = expit(x_batch.dot(vector)+ b) \n",
    "                dw, db = gradients(x_batch, y_batch, y_hat, C, vector)\n",
    "                diff_w = learn_rate * dw\n",
    "                diff_b = learn_rate * db\n",
    "                if np.all(abs(diff_w) >= tolerance):\n",
    "                    vector = vector - diff_w\n",
    "                    b = b - diff_b\n",
    "                else:\n",
    "                    break   \n",
    "            l = loss(y, expit(x.dot(vector) + b)) #calcualting the loss\n",
    "            bar.next()\n",
    "    return vector.reshape((-1)), b\n",
    "#predict function\n",
    "def predict(X, weights, bias):\n",
    "    # Calculating presictions/y_hat.\n",
    "    if issparse(X):\n",
    "        preds = expit(X.dot(weights) + bias)\n",
    "    else:\n",
    "        preds = sigmoid(np.dot(X, weights)+bias)\n",
    "    # if y_hat >= 0.5 --> round up to 1\n",
    "    # if y_hat < 0.5 --> round up to 1\n",
    "    pred_class = [1 if i > 0.5 else 0 for i in preds]\n",
    "    return np.array(pred_class)\n"
   ]
  },
  {
   "cell_type": "code",
   "execution_count": 66,
   "metadata": {},
   "outputs": [
    {
     "name": "stdout",
     "output_type": "stream",
     "text": [
      "0.5222381635581061\n"
     ]
    },
    {
     "data": {
      "image/png": "[encoded data removed]",
      "text/plain": [
       "<Figure size 432x288 with 2 Axes>"
      ]
     },
     "metadata": {
      "needs_background": "light"
     },
     "output_type": "display_data"
    },
    {
     "name": "stdout",
     "output_type": "stream",
     "text": [
      "0.9139167862266858\n"
     ]
    },
    {
     "data": {
      "image/png": "[encoded data removed]",
      "text/plain": [
       "<Figure size 432x288 with 2 Axes>"
      ]
     },
     "metadata": {
      "needs_background": "light"
     },
     "output_type": "display_data"
    }
   ],
   "source": [
    "'''\n",
    "Using Logistic Regression for Binary Text Classification for determining Fake versus Real news\n",
    "'''\n",
    "# Converting y variable into 1 and 0 for SGD\n",
    "response_train = np.array([1 if i=='REAL' else 0 for i in y_train]).reshape((-1, 1))\n",
    "response_test  = np.array([1 if i=='REAL' else 0 for i in y_test]).reshape((-1, 1))\n",
    "\n",
    "# logistic model with myModel's previous learned coefficient as a warm start: \n",
    "# Does not perform well due to exloding gradient problem!!\n",
    "weights, bias= mdmbSGDLog(gradients, x=tfidf_train, y=response_train, start=myModel.coef_[0], learn_rate=.00001, batch_size=1, n_iter=3, C=1, random_state=0)\n",
    "pred = predict(tfidf_test, weights=weights, bias=myModel.intercept_)\n",
    "print(metrics.accuracy_score(response_test, pred))\n",
    "ConfusionMatrixDisplay.from_predictions(response_test, pred)\n",
    "plt.show()\n",
    "\n",
    "#Sklearn's logistic model with no warm start: performs very well!! \n",
    "sklogmodel=_logistic.LogisticRegression(multi_class='ovr')\n",
    "sklogmodel.fit(tfidf_train, response_train)\n",
    "pred2 = predict(tfidf_test, weights=sklogmodel.coef_[0], bias=sklogmodel.intercept_ )\n",
    "print(metrics.accuracy_score(response_test, pred2))\n",
    "ConfusionMatrixDisplay.from_predictions(response_test, pred2)\n",
    "plt.show()\n"
   ]
  },
  {
   "cell_type": "code",
   "execution_count": 67,
   "metadata": {},
   "outputs": [
    {
     "name": "stdout",
     "output_type": "stream",
     "text": [
      "[NbConvertApp] Converting notebook Building a \"fake news\" classifier.ipynb to script\n",
      "[NbConvertApp] Writing 15921 bytes to Building a \"fake news\" classifier.py\n"
     ]
    }
   ],
   "source": [
    "!jupyter nbconvert --to script Building\\ a\\ \\\"fake\\ news\\\"\\ classifier.ipynb"
   ]
  },
  {
   "cell_type": "code",
   "execution_count": null,
   "metadata": {},
   "outputs": [],
   "source": []
  }
 ],
 "metadata": {
  "kernelspec": {
   "display_name": "Python 3",
   "language": "python",
   "name": "python3"
  },
  "language_info": {
   "codemirror_mode": {
    "name": "ipython",
    "version": 3
   },
   "file_extension": ".py",
   "mimetype": "text/x-python",
   "name": "python",
   "nbconvert_exporter": "python",
   "pygments_lexer": "ipython3",
   "version": "3.7.3"
  }
 },
 "nbformat": 4,
 "nbformat_minor": 2
}
